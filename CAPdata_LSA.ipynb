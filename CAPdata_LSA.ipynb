{
 "cells": [
  {
   "cell_type": "markdown",
   "metadata": {},
   "source": [
    "# United States Case Law Test"
   ]
  },
  {
   "cell_type": "markdown",
   "metadata": {},
   "source": [
    "# Import & cleanse data"
   ]
  },
  {
   "cell_type": "code",
   "execution_count": 1,
   "metadata": {},
   "outputs": [],
   "source": [
    "import chardet\n",
    "from casewrangler import CaseWrangler\n",
    "\n",
    "import os, sys, pickle\n",
    "import pandas as pd\n",
    "import numpy as np\n",
    "\n",
    "import seaborn as sns; sns.set()\n",
    "import matplotlib.pyplot as plt\n",
    "\n",
    "import datetime\n",
    "from nltk.tokenize import sent_tokenize, word_tokenize\n",
    "\n",
    "cw = CaseWrangler()"
   ]
  },
  {
   "cell_type": "code",
   "execution_count": 2,
   "metadata": {},
   "outputs": [
    {
     "name": "stdout",
     "output_type": "stream",
     "text": [
      "Number of Cases: 183149\n"
     ]
    }
   ],
   "source": [
    "IllPath = os.path.abspath('Illinois-20181204-xml/data/data.jsonl.xz')\n",
    "IllCases = cw.extractCases(IllPath)\n",
    "IllDF = cw.wrangleCases(IllCases)"
   ]
  },
  {
   "cell_type": "code",
   "execution_count": 43,
   "metadata": {},
   "outputs": [
    {
     "data": {
      "text/html": [
       "<div>\n",
       "<style scoped>\n",
       "    .dataframe tbody tr th:only-of-type {\n",
       "        vertical-align: middle;\n",
       "    }\n",
       "\n",
       "    .dataframe tbody tr th {\n",
       "        vertical-align: top;\n",
       "    }\n",
       "\n",
       "    .dataframe thead th {\n",
       "        text-align: right;\n",
       "    }\n",
       "</style>\n",
       "<table border=\"1\" class=\"dataframe\">\n",
       "  <thead>\n",
       "    <tr style=\"text-align: right;\">\n",
       "      <th></th>\n",
       "      <th>author</th>\n",
       "      <th>citation</th>\n",
       "      <th>court</th>\n",
       "      <th>date</th>\n",
       "      <th>jurisdiction</th>\n",
       "      <th>name</th>\n",
       "      <th>text</th>\n",
       "      <th>type</th>\n",
       "      <th>year</th>\n",
       "    </tr>\n",
       "  </thead>\n",
       "  <tbody>\n",
       "    <tr>\n",
       "      <th>0</th>\n",
       "      <td>PRESIDING JUSTICE McDADE</td>\n",
       "      <td>338 Ill. App. 3d 1070</td>\n",
       "      <td>Illinois Appellate Court</td>\n",
       "      <td>2003-05-02</td>\n",
       "      <td>Illinois</td>\n",
       "      <td>Ratliff-El v. Briley</td>\n",
       "      <td>delivered the opinion of the court: Michael Ra...</td>\n",
       "      <td>majority</td>\n",
       "      <td>2003</td>\n",
       "    </tr>\n",
       "    <tr>\n",
       "      <th>1</th>\n",
       "      <td>JUSTICE MAAG</td>\n",
       "      <td>338 Ill. App. 3d 745</td>\n",
       "      <td>Illinois Appellate Court</td>\n",
       "      <td>2003-05-01</td>\n",
       "      <td>Illinois</td>\n",
       "      <td>Adams v. Harrah’s Maryland Heights Corp.</td>\n",
       "      <td>delivered the opinion of the court: The plaint...</td>\n",
       "      <td>majority</td>\n",
       "      <td>2003</td>\n",
       "    </tr>\n",
       "    <tr>\n",
       "      <th>2</th>\n",
       "      <td>PRESIDING JUSTICE HOPKINS</td>\n",
       "      <td>338 Ill. App. 3d 720</td>\n",
       "      <td>Illinois Appellate Court</td>\n",
       "      <td>2003-04-25</td>\n",
       "      <td>Illinois</td>\n",
       "      <td>In re Marriage of Bowlby</td>\n",
       "      <td>delivered the opinion of the court: The petiti...</td>\n",
       "      <td>majority</td>\n",
       "      <td>2003</td>\n",
       "    </tr>\n",
       "  </tbody>\n",
       "</table>\n",
       "</div>"
      ],
      "text/plain": [
       "                      author               citation                     court  \\\n",
       "0   PRESIDING JUSTICE McDADE  338 Ill. App. 3d 1070  Illinois Appellate Court   \n",
       "1               JUSTICE MAAG   338 Ill. App. 3d 745  Illinois Appellate Court   \n",
       "2  PRESIDING JUSTICE HOPKINS   338 Ill. App. 3d 720  Illinois Appellate Court   \n",
       "\n",
       "         date jurisdiction                                      name  \\\n",
       "0  2003-05-02     Illinois                      Ratliff-El v. Briley   \n",
       "1  2003-05-01     Illinois  Adams v. Harrah’s Maryland Heights Corp.   \n",
       "2  2003-04-25     Illinois                  In re Marriage of Bowlby   \n",
       "\n",
       "                                                text      type  year  \n",
       "0  delivered the opinion of the court: Michael Ra...  majority  2003  \n",
       "1  delivered the opinion of the court: The plaint...  majority  2003  \n",
       "2  delivered the opinion of the court: The petiti...  majority  2003  "
      ]
     },
     "metadata": {},
     "output_type": "display_data"
    }
   ],
   "source": [
    "display(IllDF.head(3))"
   ]
  },
  {
   "cell_type": "code",
   "execution_count": 4,
   "metadata": {},
   "outputs": [],
   "source": [
    "IllDF['year'] = pd.to_datetime(IllDF['date']).apply(lambda x: x.year)"
   ]
  },
  {
   "cell_type": "markdown",
   "metadata": {},
   "source": [
    "# Defining the scope of data"
   ]
  },
  {
   "cell_type": "code",
   "execution_count": 5,
   "metadata": {},
   "outputs": [
    {
     "name": "stdout",
     "output_type": "stream",
     "text": [
      "Ill date range: 1771-10-12 2011-05-20\n"
     ]
    }
   ],
   "source": [
    "print('Ill date range:', IllDF['date'].min(), IllDF['date'].max())"
   ]
  },
  {
   "cell_type": "code",
   "execution_count": 6,
   "metadata": {},
   "outputs": [
    {
     "data": {
      "image/png": "[encoded data removed]",
      "text/plain": [
       "<Figure size 432x288 with 1 Axes>"
      ]
     },
     "metadata": {
      "needs_background": "light"
     },
     "output_type": "display_data"
    }
   ],
   "source": [
    "plt.hist(IllDF['year'],bins=[n for n in range(1950, 2030, 10)])\n",
    "plt.xlabel('Year')\n",
    "plt.ylabel('Number of cases')\n",
    "plt.show()"
   ]
  },
  {
   "cell_type": "code",
   "execution_count": 7,
   "metadata": {},
   "outputs": [
    {
     "name": "stdout",
     "output_type": "stream",
     "text": [
      "Remaining number of cases: 85855\n"
     ]
    }
   ],
   "source": [
    "#work on 1951-2010\n",
    "IllDF = IllDF[(IllDF['year']>1950) & (IllDF['year']<=2010)]\n",
    "print('Remaining number of cases:', len(IllDF))"
   ]
  },
  {
   "cell_type": "code",
   "execution_count": 8,
   "metadata": {},
   "outputs": [
    {
     "name": "stdout",
     "output_type": "stream",
     "text": [
      "Illinois:\n",
      " majority                                     77794\n",
      "dissent                                       5338\n",
      "concurrence                                   1607\n",
      "concurring-in-part-and-dissenting-in-part      756\n",
      "rehearing                                      360\n",
      "Name: type, dtype: int64\n"
     ]
    }
   ],
   "source": [
    "# Check the type of case\n",
    "print('Illinois:\\n', IllDF['type'].value_counts())"
   ]
  },
  {
   "cell_type": "code",
   "execution_count": 9,
   "metadata": {},
   "outputs": [
    {
     "name": "stdout",
     "output_type": "stream",
     "text": [
      "Remaining number of cases: 77794\n"
     ]
    }
   ],
   "source": [
    "#work on majority type cases only\n",
    "IllDF = IllDF[(IllDF['type']=='majority')]\n",
    "print('Remaining number of cases:', len(IllDF))"
   ]
  },
  {
   "cell_type": "code",
   "execution_count": 10,
   "metadata": {},
   "outputs": [
    {
     "name": "stdout",
     "output_type": "stream",
     "text": [
      "number of cases: 77794\n"
     ]
    }
   ],
   "source": [
    "#create one dataframe\n",
    "CaseLaw_DF = IllDF.drop(columns = 'type')\n",
    "print('number of cases:', len(CaseLaw_DF))"
   ]
  },
  {
   "cell_type": "code",
   "execution_count": 11,
   "metadata": {},
   "outputs": [
    {
     "data": {
      "text/html": [
       "<div>\n",
       "<style scoped>\n",
       "    .dataframe tbody tr th:only-of-type {\n",
       "        vertical-align: middle;\n",
       "    }\n",
       "\n",
       "    .dataframe tbody tr th {\n",
       "        vertical-align: top;\n",
       "    }\n",
       "\n",
       "    .dataframe thead th {\n",
       "        text-align: right;\n",
       "    }\n",
       "</style>\n",
       "<table border=\"1\" class=\"dataframe\">\n",
       "  <thead>\n",
       "    <tr style=\"text-align: right;\">\n",
       "      <th></th>\n",
       "      <th>author</th>\n",
       "      <th>citation</th>\n",
       "      <th>court</th>\n",
       "      <th>jurisdiction</th>\n",
       "      <th>name</th>\n",
       "      <th>text</th>\n",
       "      <th>year</th>\n",
       "    </tr>\n",
       "  </thead>\n",
       "  <tbody>\n",
       "    <tr>\n",
       "      <th>0</th>\n",
       "      <td>PRESIDING JUSTICE McDADE</td>\n",
       "      <td>338 Ill. App. 3d 1070</td>\n",
       "      <td>Illinois Appellate Court</td>\n",
       "      <td>Illinois</td>\n",
       "      <td>Ratliff-El v. Briley</td>\n",
       "      <td>delivered the opinion of the court: Michael Ra...</td>\n",
       "      <td>2003</td>\n",
       "    </tr>\n",
       "    <tr>\n",
       "      <th>1</th>\n",
       "      <td>JUSTICE MAAG</td>\n",
       "      <td>338 Ill. App. 3d 745</td>\n",
       "      <td>Illinois Appellate Court</td>\n",
       "      <td>Illinois</td>\n",
       "      <td>Adams v. Harrah’s Maryland Heights Corp.</td>\n",
       "      <td>delivered the opinion of the court: The plaint...</td>\n",
       "      <td>2003</td>\n",
       "    </tr>\n",
       "    <tr>\n",
       "      <th>2</th>\n",
       "      <td>PRESIDING JUSTICE HOPKINS</td>\n",
       "      <td>338 Ill. App. 3d 720</td>\n",
       "      <td>Illinois Appellate Court</td>\n",
       "      <td>Illinois</td>\n",
       "      <td>In re Marriage of Bowlby</td>\n",
       "      <td>delivered the opinion of the court: The petiti...</td>\n",
       "      <td>2003</td>\n",
       "    </tr>\n",
       "  </tbody>\n",
       "</table>\n",
       "</div>"
      ],
      "text/plain": [
       "                      author               citation                     court  \\\n",
       "0   PRESIDING JUSTICE McDADE  338 Ill. App. 3d 1070  Illinois Appellate Court   \n",
       "1               JUSTICE MAAG   338 Ill. App. 3d 745  Illinois Appellate Court   \n",
       "2  PRESIDING JUSTICE HOPKINS   338 Ill. App. 3d 720  Illinois Appellate Court   \n",
       "\n",
       "  jurisdiction                                      name  \\\n",
       "0     Illinois                      Ratliff-El v. Briley   \n",
       "1     Illinois  Adams v. Harrah’s Maryland Heights Corp.   \n",
       "2     Illinois                  In re Marriage of Bowlby   \n",
       "\n",
       "                                                text  year  \n",
       "0  delivered the opinion of the court: Michael Ra...  2003  \n",
       "1  delivered the opinion of the court: The plaint...  2003  \n",
       "2  delivered the opinion of the court: The petiti...  2003  "
      ]
     },
     "metadata": {},
     "output_type": "display_data"
    }
   ],
   "source": [
    "CaseLaw_DF = CaseLaw_DF.reset_index().drop(columns = ['index','date'])\n",
    "display(CaseLaw_DF.head(3))"
   ]
  },
  {
   "cell_type": "markdown",
   "metadata": {},
   "source": [
    "# Cleansing"
   ]
  },
  {
   "cell_type": "code",
   "execution_count": 12,
   "metadata": {},
   "outputs": [],
   "source": [
    "from nltk.corpus import stopwords\n",
    "from nltk.stem import PorterStemmer\n",
    "import re\n",
    "import string\n",
    "from unidecode import unidecode\n",
    "\n",
    "#we don't lowercase yet in case NLTK uses capitalisation for sentence tokenization\n",
    "CaseLaw_DF['text_cleansed'] = CaseLaw_DF['text'].apply(lambda x: unidecode(re.sub(' +', ' ', x).strip())) #any additional whitespaces and foreign characters\n",
    "CaseLaw_DF['text_cleansed'] = CaseLaw_DF['text_cleansed'].apply(lambda x: re.sub('[0-9]{1,2} [Uu]\\.[Ss]\\.[Cc]\\. §\\s?\\d+(\\w+)?( \\([0-9]{4}\\))?',' USCCITATION ',x))\n",
    "CaseLaw_DF['text_cleansed'] = CaseLaw_DF['text_cleansed'].apply(lambda x: re.sub('[a-zA-Z]+ [vV]\\. [a-zA-Z]+',' CaseAvCaseB ',x)) #CaseA v. CaseB = CaseAvCaseB\n",
    "CaseLaw_DF['text_cleansed'] = CaseLaw_DF['text_cleansed'].apply(lambda x: re.sub('\\d+ (Ark|Ill)\\. \\d+',' StateCase ',x))  #300 Ark. 230 = 300Ark230\n",
    "CaseLaw_DF['text_cleansed'] = CaseLaw_DF['text_cleansed'].apply(lambda x: re.sub(' [Ss][Tt][Aa][Tt][Ss]\\.',' stats ',x))  #300 Ark. 230 = 300Ark230\n",
    "CaseLaw_DF['text_cleansed'] = CaseLaw_DF['text_cleansed'].apply(lambda x: re.sub('\\d+ [A-z]+\\.[ ]*[A-z]+\\.[ ]*\\d[A-z]+ \\d+',' CaseRef ',x)) #953 S.W.2d 559 or 87 L.Ed.2d 481\n",
    "CaseLaw_DF['text_cleansed'] = CaseLaw_DF['text_cleansed'].apply(lambda x: x.replace(' U.S. ','US'))\n",
    "CaseLaw_DF['text_cleansed'] = CaseLaw_DF['text_cleansed'].apply(lambda x: x.replace(' S.Ct. ','SCt'))\n",
    "CaseLaw_DF['text_cleansed'] = CaseLaw_DF['text_cleansed'].apply(lambda x: re.sub('[Jj][Rr]\\.', 'Jr ', x))\n",
    "CaseLaw_DF['text_cleansed'] = CaseLaw_DF['text_cleansed'].apply(lambda x: x.replace(' f. supp. ', ' fsupp '))\n",
    "CaseLaw_DF['text_cleansed'] = CaseLaw_DF['text_cleansed'].apply(lambda x: x.replace(' cir.', ' cir '))\n",
    "CaseLaw_DF['text_cleansed'] = CaseLaw_DF['text_cleansed'].apply(lambda x: re.sub('\\d+ (Ark|Ill)\\. App. \\d+',' StateAppCase ',x))\n",
    "CaseLaw_DF['text_cleansed'] = CaseLaw_DF['text_cleansed'].apply(lambda x: re.sub('(Ark|Ill)\\. Code Ann\\. § ',' StateCodeSection ',x))\n",
    "CaseLaw_DF['text_cleansed'] = CaseLaw_DF['text_cleansed'].apply(lambda x: re.sub(' [Ii][Dd]\\.',' Idem ',x))\n",
    "CaseLaw_DF['text_cleansed'] = CaseLaw_DF['text_cleansed'].apply(lambda x: re.sub('§+',' Section ',x))\n",
    "CaseLaw_DF['text_cleansed'] = CaseLaw_DF['text_cleansed'].apply(lambda x: re.sub('[Aa][Nn][Nn][Oo][:.]* \\d+ [Aa]\\.*[ ]*[Ll]\\.*[ ]*[Rr]\\.*[ ]*\\d+','anno',x))\n",
    "CaseLaw_DF['text_cleansed'] = CaseLaw_DF['text_cleansed'].apply(lambda x: re.sub(' [Aa][Nn][Nn][Oo][:.]*',' anno',x)) \n",
    "CaseLaw_DF['text_cleansed'] = CaseLaw_DF['text_cleansed'].apply(lambda x: re.sub('[Cc][Ff]\\.','cf',x))\n",
    "CaseLaw_DF['text_cleansed'] = CaseLaw_DF['text_cleansed'].apply(lambda x: re.sub(' [Rr][Ee][Vv]\\. [Ss][Tt][Aa][Tt]\\.',' revstat ',x))\n",
    "CaseLaw_DF['text_cleansed'] = CaseLaw_DF['text_cleansed'].apply(lambda x: re.sub('[ \\d]+[Cc][Hh]\\.',' ch ',x))\n",
    "CaseLaw_DF['text_cleansed'] = CaseLaw_DF['text_cleansed'].apply(lambda x: re.sub('[ \\d]+[Pp][Aa][Rr]\\.',' par ',x))\n",
    "CaseLaw_DF['text_cleansed'] = CaseLaw_DF['text_cleansed'].apply(lambda x: re.sub('[ \\d]+[Ss][Tt][Aa][Tt]\\.',' stat ',x))\n",
    "CaseLaw_DF['text_cleansed'] = CaseLaw_DF['text_cleansed'].apply(lambda x: x.replace('[o]', 'o')) #OCR is doing weird things: [o]ne\n"
   ]
  },
  {
   "cell_type": "code",
   "execution_count": 13,
   "metadata": {},
   "outputs": [
    {
     "name": "stdout",
     "output_type": "stream",
     "text": [
      "7637945\n"
     ]
    }
   ],
   "source": [
    "test_df = pd.DataFrame()\n",
    "\n",
    "test_df['text'] = CaseLaw_DF['text_cleansed'].apply(lambda x: sent_tokenize(x))\n",
    "test_df.reset_index(inplace=True)\n",
    "rows = []\n",
    "_ = test_df.apply(lambda row: [rows.append([row['index'], nn]) \n",
    "                         for nn in row['text']], axis=1)\n",
    "df_new = pd.DataFrame(rows, columns=test_df.columns)\n",
    "df_new = df_new.merge(CaseLaw_DF[['year']], left_on = 'index', right_index = True)\n",
    "print(len(df_new)) #9,005,803"
   ]
  },
  {
   "cell_type": "code",
   "execution_count": 14,
   "metadata": {},
   "outputs": [
    {
     "data": {
      "text/html": [
       "<div>\n",
       "<style scoped>\n",
       "    .dataframe tbody tr th:only-of-type {\n",
       "        vertical-align: middle;\n",
       "    }\n",
       "\n",
       "    .dataframe tbody tr th {\n",
       "        vertical-align: top;\n",
       "    }\n",
       "\n",
       "    .dataframe thead th {\n",
       "        text-align: right;\n",
       "    }\n",
       "</style>\n",
       "<table border=\"1\" class=\"dataframe\">\n",
       "  <thead>\n",
       "    <tr style=\"text-align: right;\">\n",
       "      <th></th>\n",
       "      <th>index</th>\n",
       "      <th>text</th>\n",
       "      <th>year</th>\n",
       "    </tr>\n",
       "  </thead>\n",
       "  <tbody>\n",
       "    <tr>\n",
       "      <th>7637942</th>\n",
       "      <td>77793</td>\n",
       "      <td>We would, nevertheless, consider it appropriat...</td>\n",
       "      <td>1981</td>\n",
       "    </tr>\n",
       "    <tr>\n",
       "      <th>7637943</th>\n",
       "      <td>77793</td>\n",
       "      <td>The judgment is reversed and the cause remande...</td>\n",
       "      <td>1981</td>\n",
       "    </tr>\n",
       "    <tr>\n",
       "      <th>7637944</th>\n",
       "      <td>77793</td>\n",
       "      <td>Reversed and remanded.</td>\n",
       "      <td>1981</td>\n",
       "    </tr>\n",
       "  </tbody>\n",
       "</table>\n",
       "</div>"
      ],
      "text/plain": [
       "         index                                               text  year\n",
       "7637942  77793  We would, nevertheless, consider it appropriat...  1981\n",
       "7637943  77793  The judgment is reversed and the cause remande...  1981\n",
       "7637944  77793                             Reversed and remanded.  1981"
      ]
     },
     "execution_count": 14,
     "metadata": {},
     "output_type": "execute_result"
    }
   ],
   "source": [
    "df_new.tail(3)"
   ]
  },
  {
   "cell_type": "code",
   "execution_count": 14,
   "metadata": {},
   "outputs": [
    {
     "name": "stdout",
     "output_type": "stream",
     "text": [
      "!\"#$%&'()*+,-./:;<=>?@[\\]^_`{|}~—■•“’‘”|¶[]«»¿£€¥®0123456789\n"
     ]
    }
   ],
   "source": [
    "#remove punctuation only after we've tokenized the sentences\n",
    "punc = string.punctuation + '—■•“’‘”|¶[]«»¿£€¥®' + string.digits\n",
    "table = str.maketrans(punc, ' '*len(punc)) #replace by space\n",
    "print(punc)"
   ]
  },
  {
   "cell_type": "code",
   "execution_count": 15,
   "metadata": {},
   "outputs": [
    {
     "name": "stdout",
     "output_type": "stream",
     "text": [
      "7637945\n"
     ]
    }
   ],
   "source": [
    "#RUN THIS\n",
    "cleansed_text = []\n",
    "cleansed_words = []\n",
    "\n",
    "stop_words = stopwords.words('english')\n",
    "ps = PorterStemmer() \n",
    "\n",
    "for row in df_new['text']:\n",
    "    text = re.sub(' +', ' ',row.translate(table).strip().lower())\n",
    "    \n",
    "    #only keep words greater than one letter (lots of them stop words but also typos and errors from split)\n",
    "    #remove stop words\n",
    "    #stem the words\n",
    "    words = [ps.stem(w) for w in text.split() if (len(w)>1) and (w not in stop_words)]\n",
    "    \n",
    "    #without stemming\n",
    "#     words = [w for w in text.split() if (len(w)>1) and (w not in stop_words)]\n",
    "    \n",
    "    cleansed_text.append(text)\n",
    "    cleansed_words.append(words)\n",
    "    \n",
    "df_new['text_cleansed'] = cleansed_text\n",
    "df_new['words_cleansed'] = cleansed_words\n",
    "\n",
    "print(len(df_new))"
   ]
  },
  {
   "cell_type": "code",
   "execution_count": 16,
   "metadata": {},
   "outputs": [
    {
     "name": "stdout",
     "output_type": "stream",
     "text": [
      "7441701\n"
     ]
    }
   ],
   "source": [
    "df_new['n_words'] = df_new['words_cleansed'].apply(len)\n",
    "df_new = df_new[df_new['n_words']>0].reset_index()\n",
    "print(len(df_new))"
   ]
  },
  {
   "cell_type": "code",
   "execution_count": 17,
   "metadata": {},
   "outputs": [],
   "source": [
    "#de-tokenize docs\n",
    "detokenized_doc = []\n",
    "for i in range(len(df_new['words_cleansed'])):\n",
    "    t = ' '.join(df_new['words_cleansed'].iloc[i])\n",
    "    detokenized_doc.append(t)\n",
    "    \n",
    "df_new['sent_detok'] = detokenized_doc"
   ]
  },
  {
   "cell_type": "code",
   "execution_count": 18,
   "metadata": {},
   "outputs": [
    {
     "data": {
      "text/plain": [
       "7441701"
      ]
     },
     "execution_count": 18,
     "metadata": {},
     "output_type": "execute_result"
    }
   ],
   "source": [
    "df_new = df_new.drop(columns='level_0').rename(columns = {'index':'text_id'})\n",
    "len(df_new)"
   ]
  },
  {
   "cell_type": "markdown",
   "metadata": {},
   "source": [
    "# LSA by decade timeslice with Baseline (MC)"
   ]
  },
  {
   "cell_type": "code",
   "execution_count": 19,
   "metadata": {},
   "outputs": [],
   "source": [
    "from sklearn.feature_extraction.text import TfidfVectorizer\n",
    "from sklearn.decomposition import TruncatedSVD\n",
    "from sklearn.metrics.pairwise import cosine_similarity\n",
    "import random "
   ]
  },
  {
   "cell_type": "code",
   "execution_count": 20,
   "metadata": {},
   "outputs": [],
   "source": [
    "import math\n",
    "\n",
    "def roundup(x):\n",
    "    return int(math.ceil(x / 10.0)) * 10\n",
    "\n",
    "t_slice = []\n",
    "\n",
    "for y in df_new['year']:\n",
    "    t = roundup(y) #e.g. 1960: 1951-1960\n",
    "    t_slice.append(t)\n",
    "    \n",
    "df_new['t_slice'] = t_slice"
   ]
  },
  {
   "cell_type": "code",
   "execution_count": 25,
   "metadata": {},
   "outputs": [],
   "source": [
    "#START AGAIN HERE AND WRITE UP ACTIONS FROM YIN\n",
    "df = pd.DataFrame()\n",
    "# dict_models = {}"
   ]
  },
  {
   "cell_type": "code",
   "execution_count": 24,
   "metadata": {},
   "outputs": [
    {
     "name": "stdout",
     "output_type": "stream",
     "text": [
      "LSA starting\n"
     ]
    },
    {
     "name": "stderr",
     "output_type": "stream",
     "text": [
      "/Users/jlhc/anaconda3/lib/python3.7/site-packages/ipykernel_launcher.py:38: SettingWithCopyWarning: \n",
      "A value is trying to be set on a copy of a slice from a DataFrame.\n",
      "Try using .loc[row_indexer,col_indexer] = value instead\n",
      "\n",
      "See the caveats in the documentation: http://pandas.pydata.org/pandas-docs/stable/indexing.html#indexing-view-versus-copy\n",
      "/Users/jlhc/anaconda3/lib/python3.7/site-packages/ipykernel_launcher.py:39: SettingWithCopyWarning: \n",
      "A value is trying to be set on a copy of a slice from a DataFrame.\n",
      "Try using .loc[row_indexer,col_indexer] = value instead\n",
      "\n",
      "See the caveats in the documentation: http://pandas.pydata.org/pandas-docs/stable/indexing.html#indexing-view-versus-copy\n"
     ]
    },
    {
     "name": "stdout",
     "output_type": "stream",
     "text": [
      "finished: 2010\n"
     ]
    }
   ],
   "source": [
    "#loop through each time slice to train LSA\n",
    "# for t in b:\n",
    "print('LSA starting')\n",
    "\n",
    "for t in [2010]:#[1960,1970,1980,1990,2000,2010]:\n",
    "    cosine_slice = [np.nan]\n",
    "    MC_cosine = [np.nan]\n",
    "    df_slice = df_new[df_new['t_slice']==t]\n",
    "    \n",
    "    # remove words that only occur 0.1% of the time in a timeslice (0.01)\n",
    "    # add bigrams\n",
    "    vectorizer = TfidfVectorizer(ngram_range=(1, 2), min_df=200) \n",
    "    X_slice = vectorizer.fit_transform(df_slice['sent_detok'])\n",
    "#     comp = vectorizer.idf_.shape[0]-1\n",
    "    \n",
    "    svd_model_slice = TruncatedSVD(n_components=200) #show comparison points? eyeballing topic terms\n",
    "    matrix = svd_model_slice.fit_transform(X_slice)\n",
    "    \n",
    "    for n in range(len(matrix)-1):\n",
    "        if df_slice['text_id'].iloc[n] != df_slice['text_id'].iloc[n+1]:\n",
    "            cosine_slice.append(np.nan)\n",
    "\n",
    "            #also restart MC_cosine to keep the same document lengths\n",
    "            MC_cosine.append(np.nan)\n",
    "\n",
    "        else:\n",
    "            cosine_slice.append(cosine_similarity(matrix[n].reshape(1, -1),matrix[n+1].reshape(1, -1))[0][0])\n",
    "\n",
    "            #create the cosine_similarities between random rows of the matrix rather than adjoining sentences\n",
    "            rand_n1 = random.randrange(0,len(matrix))\n",
    "            rand_n2 = random.randrange(0,len(matrix))\n",
    "            MC_cosine.append(cosine_similarity(matrix[rand_n1].reshape(1,-1),matrix[rand_n2].reshape(1,-1))[0][0])\n",
    "\n",
    "\n",
    "\n",
    "#     dict_models[t] = [svd_model_slice,matrix]\n",
    "\n",
    "    df_slice['cosine_slice'] = cosine_slice\n",
    "    df_slice['MC_cosine'] = MC_cosine\n",
    "    df_exp = df_slice.drop(columns=['text','text_cleansed','words_cleansed','n_words','sent_detok'])\n",
    "    df_exp.to_csv('df_%s.csv'%t)\n",
    "    \n",
    "    df = df.append(df_slice)\n",
    "    \n",
    "    print('finished:',t)"
   ]
  },
  {
   "cell_type": "code",
   "execution_count": 86,
   "metadata": {},
   "outputs": [
    {
     "data": {
      "text/plain": [
       "2420563"
      ]
     },
     "execution_count": 86,
     "metadata": {},
     "output_type": "execute_result"
    }
   ],
   "source": [
    "len(df) # 7441701"
   ]
  },
  {
   "cell_type": "markdown",
   "metadata": {},
   "source": [
    "# Evaluating model performance"
   ]
  },
  {
   "cell_type": "code",
   "execution_count": 149,
   "metadata": {},
   "outputs": [],
   "source": [
    "STOPPED HERE. WE CAN EVALUATE PERFORMANCE FOR EACH SLICE AFTERWARDS"
   ]
  },
  {
   "cell_type": "code",
   "execution_count": 40,
   "metadata": {},
   "outputs": [
    {
     "data": {
      "text/plain": [
       "dict_keys([1960, 1970, 1980, 1990, 2000, 2010])"
      ]
     },
     "execution_count": 40,
     "metadata": {},
     "output_type": "execute_result"
    }
   ],
   "source": [
    "dict_models.keys()"
   ]
  },
  {
   "cell_type": "code",
   "execution_count": 35,
   "metadata": {},
   "outputs": [
    {
     "data": {
      "image/png": "[encoded data removed]",
      "text/plain": [
       "<Figure size 432x288 with 1 Axes>"
      ]
     },
     "metadata": {
      "needs_background": "light"
     },
     "output_type": "display_data"
    }
   ],
   "source": [
    "# for last decade\n",
    "plt.plot(dict_models[1960][0].explained_variance_ratio_.cumsum(),label = '60')\n",
    "plt.plot(dict_models[1970][0].explained_variance_ratio_.cumsum(),label = '70')\n",
    "plt.plot(dict_models[1980][0].explained_variance_ratio_.cumsum(),label = '80')\n",
    "plt.plot(dict_models[1990][0].explained_variance_ratio_.cumsum(),label = '90')\n",
    "plt.plot(dict_models[2000][0].explained_variance_ratio_.cumsum(),label = '00')\n",
    "plt.plot(dict_models[2010][0].explained_variance_ratio_.cumsum(),label = '10')\n",
    "plt.legend()\n",
    "plt.savefig('figs/var.png')\n",
    "plt.show()"
   ]
  },
  {
   "cell_type": "code",
   "execution_count": 59,
   "metadata": {},
   "outputs": [
    {
     "name": "stdout",
     "output_type": "stream",
     "text": [
      "Showing top 5 terms in each topic for the top 10 topics each decade\n",
      "Decade 1960\n",
      "Topic 1:  ['also contend', 'defend knowledg', 'also includ', 'defend lack', 'anyth']\n",
      "Topic 2:  ['arrest defend', 'await', 'counti board', 'along', 'closet']\n",
      "Topic 3:  ['chester', 'amend unit', 'dawn', 'chicago illinoi', 'day care']\n",
      "Topic 4:  ['convert', 'bargain agreement', 'convey', 'bargain', 'arrest defend']\n",
      "Topic 5:  ['corp statecas', 'defend knowledg', 'defend held', 'decis find', 'also includ']\n",
      "Topic 6:  ['acr', 'closet', 'closur', 'date august', 'automobil accid']\n",
      "Topic 7:  ['bureau', 'burden show', 'crimin justic', 'counsel', 'council']\n",
      "Topic 8:  ['also contend', 'defend juri', 'also held', 'anyth', 'also order']\n",
      "Topic 9:  ['acr', 'court recent', 'convict', 'court recogn', 'convert']\n",
      "Topic 10:  ['anyth', 'defend knowledg', 'decis find', 'appar', 'along']\n",
      "Decade 1970\n",
      "Topic 1:  ['apprais', 'court indic', 'approach', 'depart state', 'court interpret']\n",
      "Topic 2:  ['bona fide', 'case file', 'date may', 'act reason', 'human servic']\n",
      "Topic 3:  ['act reason', 'date octob', 'date may', 'art', 'arson']\n",
      "Topic 4:  ['certifi mail', 'dismiss count', 'certifi copi', 'dismiss complaint', 'bona fide']\n",
      "Topic 5:  ['advanc', 'court inform', 'advers', 'depart state', 'assur']\n",
      "Topic 6:  ['court indic', 'feder rule', 'docket entri', 'court januari', 'futur']\n",
      "Topic 7:  ['bona fide', 'human servic', 'hurt', 'fee award', 'advers wit']\n",
      "Topic 8:  ['genet', 'approv', 'docket entri', 'apprais', 'feder rule']\n",
      "Topic 9:  ['case file', 'human servic', 'docket entri', 'hurt', 'hear act']\n",
      "Topic 10:  ['fee award', 'elect', 'fail provid', 'feet', 'date may']\n",
      "Decade 1980\n",
      "Topic 1:  ['charg first', 'centuri', 'chase', 'certif', 'unload']\n",
      "Topic 2:  ['judgment grant', 'claim bar', 'probat', 'state wit', 'judgment plead']\n",
      "Topic 3:  ['unload', 'charact', 'centuri', 'unnatur', 'credibl determin']\n",
      "Topic 4:  ['credibl determin', 'defend stop', 'affili', 'reason', 'marker']\n",
      "Topic 5:  ['affili', 'market valu', 'marker', 'code correct', 'code code']\n",
      "Topic 6:  ['centuri', 'challeng statut', 'judgment grant', 'judgment merit', 'suspect']\n",
      "Topic 7:  ['credibl determin', 'state note', 'code code', 'code correct', 'marker']\n",
      "Topic 8:  ['judgment grant', 'challeng statut', 'judgment merit', 'charg first', 'unnatur']\n",
      "Topic 9:  ['state note', 'solut', 'state point', 'marker', 'someon els']\n",
      "Topic 10:  ['defend stop', 'state note', 'solut', 'state point', 'without resort']\n",
      "Decade 1990\n",
      "Topic 1:  ['compris', 'committe note', 'concept', 'commonwealth edison', 'complianc']\n",
      "Topic 2:  ['stipul', 'conspir', 'const', 'offic may', 'offset']\n",
      "Topic 3:  ['complianc', 'committe note', 'court appear', 'consid determin', 'concern']\n",
      "Topic 4:  ['deserv', 'evid court', 'airport', 'third', 'rs']\n",
      "Topic 5:  ['airport', 'policyhold', 'pollut', 'convict attempt', 'convict aggrav']\n",
      "Topic 6:  ['educ labor', 'committe note', 'concert', 'complianc', 'composit']\n",
      "Topic 7:  ['educ labor', 'compris', 'concert', 'fine impos', 'composit']\n",
      "Topic 8:  ['deserv', 'policyhold', 'convict aggrav', 'convict attempt', 'rs']\n",
      "Topic 9:  ['compli section', 'court adopt', 'deserv', 'otherwis provid', 'concept']\n",
      "Topic 10:  ['commonwealth edison', 'concept', 'educ labor', 'committe note', 'concert']\n",
      "Decade 2000\n",
      "Topic 1:  ['collaps', 'climb', 'close', 'collector', 'cognit']\n",
      "Topic 2:  ['cognit', 'correctli', 'nearbi', 'underli case', 'declin follow']\n",
      "Topic 3:  ['coerciv', 'motion new', 'motion quash', 'motion reconsid', 'sever day']\n",
      "Topic 4:  ['motion reconsid', 'compli requir', 'sever day', 'compli rule', 'motion strike']\n",
      "Topic 5:  ['motion reconsid', 'sever day', 'compli requir', 'compli rule', 'motion strike']\n",
      "Topic 6:  ['motion new', 'motion quash', 'action accru', 'could establish', 'motion plaintiff']\n",
      "Topic 7:  ['agricultur', 'passag', 'consid relev', 'consid merit', 'patent without']\n",
      "Topic 8:  ['cognit', 'climb', 'discret refus', 'collis', 'cole']\n",
      "Topic 9:  ['discret refus', 'collis', 'cole', 'collaps', 'collector']\n",
      "Topic 10:  ['defend never', 'passag', 'refund', 'consid merit', 'consid relev']\n",
      "Decade 2010\n",
      "Topic 1:  ['statecas', 'caseavcaseb', 'caseref', 'caseavcaseb statecas', 'stateappcas']\n",
      "Topic 2:  ['stateappcas', 'see', 'west', 'ilc west', 'ilc']\n",
      "Topic 3:  ['west', 'ilc west', 'ilc', 'see ilc', 'see']\n",
      "Topic 4:  ['caseref', 'caseavcaseb', 'caseavcaseb caseref', 'caseref caseref', 'statecas caseref']\n",
      "Topic 5:  ['court', 'defend', 'trial', 'trial court', 'plaintiff']\n",
      "Topic 6:  ['ct', 'caseref ct', 'us caseref', 'us', 'caseavcaseb us']\n",
      "Topic 7:  ['caseavcaseb statecas', 'caseavcaseb', 'statecas caseref', 'see caseavcaseb', 'affirm']\n",
      "Topic 8:  ['affirm', 'judgment', 'circuit court', 'circuit', 'court']\n",
      "Topic 9:  ['ed', 'usat', 'usat ed', 'see', 'see caseavcaseb']\n",
      "Topic 10:  ['court', 'trial court', 'trial', 'motion', 'ed']\n"
     ]
    }
   ],
   "source": [
    "#glimpse into topics models\n",
    "\n",
    "terms = vectorizer.get_feature_names()\n",
    "\n",
    "print('Showing top 5 terms in each topic for the top 10 topics each decade')\n",
    "\n",
    "for k in dict_models.keys():\n",
    "    print('Decade',k)\n",
    "    for i, comp in enumerate(dict_models[k][0].components_[:10]):\n",
    "        terms_comp = zip(terms, comp)\n",
    "        sorted_terms = sorted(terms_comp, key= lambda x:x[1], reverse=True)[:7]\n",
    "        t = []\n",
    "        for st in sorted_terms[:5]:\n",
    "            t.append(st[0])\n",
    "        print(\"Topic \"+str(i+1)+\": \",t)\n",
    "    \n",
    "#ss means secretarial standards"
   ]
  },
  {
   "cell_type": "markdown",
   "metadata": {},
   "source": [
    "# trend analysis"
   ]
  },
  {
   "cell_type": "code",
   "execution_count": 31,
   "metadata": {},
   "outputs": [
    {
     "name": "stdout",
     "output_type": "stream",
     "text": [
      "1960\n",
      "1970\n",
      "1980\n",
      "1990\n",
      "2000\n",
      "2010\n"
     ]
    }
   ],
   "source": [
    "#import scores\n",
    "df_scores = pd.DataFrame()\n",
    "\n",
    "for year in range(1960, 2020, 10):\n",
    "    print(year)\n",
    "    df_scores = df_scores.append(pd.read_csv('df_%s.csv'%year))"
   ]
  },
  {
   "cell_type": "code",
   "execution_count": 33,
   "metadata": {},
   "outputs": [],
   "source": [
    "df_scores = df_scores.drop(columns='Unnamed: 0')"
   ]
  },
  {
   "cell_type": "code",
   "execution_count": 35,
   "metadata": {},
   "outputs": [
    {
     "data": {
      "image/png": "[encoded data removed]",
      "text/plain": [
       "<Figure size 432x288 with 1 Axes>"
      ]
     },
     "metadata": {
      "needs_background": "light"
     },
     "output_type": "display_data"
    }
   ],
   "source": [
    "from statistics import mean\n",
    "ave_cosine = df_scores.groupby('text_id').mean()[['cosine_slice','t_slice','year']]\n",
    "ax = sns.boxplot(x='t_slice', y=\"cosine_slice\", data=ave_cosine)"
   ]
  },
  {
   "cell_type": "code",
   "execution_count": 36,
   "metadata": {},
   "outputs": [
    {
     "data": {
      "image/png": "[encoded data removed]",
      "text/plain": [
       "<Figure size 432x288 with 1 Axes>"
      ]
     },
     "metadata": {
      "needs_background": "light"
     },
     "output_type": "display_data"
    }
   ],
   "source": [
    "ave_MC = df_scores.groupby('text_id').mean()[['MC_cosine','t_slice','year']]\n",
    "ax = sns.boxplot(x='t_slice', y=\"MC_cosine\", data=ave_MC)\n",
    "# plt.legend()\n",
    "# plt.savefig('figure/boxplot.png')\n",
    "# plt.show()"
   ]
  },
  {
   "cell_type": "code",
   "execution_count": 37,
   "metadata": {},
   "outputs": [
    {
     "data": {
      "image/png": "[encoded data removed]",
      "text/plain": [
       "<Figure size 432x288 with 1 Axes>"
      ]
     },
     "metadata": {
      "needs_background": "light"
     },
     "output_type": "display_data"
    }
   ],
   "source": [
    "ax = sns.boxplot(y=\"cosine_slice\", data=ave_cosine)\n",
    "plt.savefig('figs/boxplot.png')\n",
    "plt.show()"
   ]
  },
  {
   "cell_type": "code",
   "execution_count": 45,
   "metadata": {},
   "outputs": [
    {
     "data": {
      "text/html": [
       "<div>\n",
       "<style scoped>\n",
       "    .dataframe tbody tr th:only-of-type {\n",
       "        vertical-align: middle;\n",
       "    }\n",
       "\n",
       "    .dataframe tbody tr th {\n",
       "        vertical-align: top;\n",
       "    }\n",
       "\n",
       "    .dataframe thead th {\n",
       "        text-align: right;\n",
       "    }\n",
       "</style>\n",
       "<table border=\"1\" class=\"dataframe\">\n",
       "  <thead>\n",
       "    <tr style=\"text-align: right;\">\n",
       "      <th></th>\n",
       "      <th>cosine_slice</th>\n",
       "      <th>t_slice</th>\n",
       "      <th>year</th>\n",
       "    </tr>\n",
       "    <tr>\n",
       "      <th>text_id</th>\n",
       "      <th></th>\n",
       "      <th></th>\n",
       "      <th></th>\n",
       "    </tr>\n",
       "  </thead>\n",
       "  <tbody>\n",
       "    <tr>\n",
       "      <th>7091</th>\n",
       "      <td>0.955970</td>\n",
       "      <td>2000.0</td>\n",
       "      <td>2000.0</td>\n",
       "    </tr>\n",
       "    <tr>\n",
       "      <th>9588</th>\n",
       "      <td>0.827774</td>\n",
       "      <td>1970.0</td>\n",
       "      <td>1969.0</td>\n",
       "    </tr>\n",
       "    <tr>\n",
       "      <th>58428</th>\n",
       "      <td>0.900509</td>\n",
       "      <td>1960.0</td>\n",
       "      <td>1958.0</td>\n",
       "    </tr>\n",
       "    <tr>\n",
       "      <th>60085</th>\n",
       "      <td>0.827774</td>\n",
       "      <td>1970.0</td>\n",
       "      <td>1961.0</td>\n",
       "    </tr>\n",
       "    <tr>\n",
       "      <th>60401</th>\n",
       "      <td>0.827774</td>\n",
       "      <td>1970.0</td>\n",
       "      <td>1964.0</td>\n",
       "    </tr>\n",
       "    <tr>\n",
       "      <th>62253</th>\n",
       "      <td>0.827774</td>\n",
       "      <td>1970.0</td>\n",
       "      <td>1965.0</td>\n",
       "    </tr>\n",
       "    <tr>\n",
       "      <th>75303</th>\n",
       "      <td>0.900509</td>\n",
       "      <td>1960.0</td>\n",
       "      <td>1960.0</td>\n",
       "    </tr>\n",
       "    <tr>\n",
       "      <th>75439</th>\n",
       "      <td>0.900509</td>\n",
       "      <td>1960.0</td>\n",
       "      <td>1960.0</td>\n",
       "    </tr>\n",
       "    <tr>\n",
       "      <th>76695</th>\n",
       "      <td>0.973960</td>\n",
       "      <td>2010.0</td>\n",
       "      <td>2004.0</td>\n",
       "    </tr>\n",
       "  </tbody>\n",
       "</table>\n",
       "</div>"
      ],
      "text/plain": [
       "         cosine_slice  t_slice    year\n",
       "text_id                               \n",
       "7091         0.955970   2000.0  2000.0\n",
       "9588         0.827774   1970.0  1969.0\n",
       "58428        0.900509   1960.0  1958.0\n",
       "60085        0.827774   1970.0  1961.0\n",
       "60401        0.827774   1970.0  1964.0\n",
       "62253        0.827774   1970.0  1965.0\n",
       "75303        0.900509   1960.0  1960.0\n",
       "75439        0.900509   1960.0  1960.0\n",
       "76695        0.973960   2010.0  2004.0"
      ]
     },
     "execution_count": 45,
     "metadata": {},
     "output_type": "execute_result"
    }
   ],
   "source": [
    "#outliers???\n",
    "ave_cosine[ave_cosine['cosine_slice']>0.8]"
   ]
  },
  {
   "cell_type": "code",
   "execution_count": 61,
   "metadata": {},
   "outputs": [
    {
     "data": {
      "text/plain": [
       "1009377    Orders of the Court: The motion by Claudia Day...\n",
       "1009378    The motion by Robert L. Kramer to strike his n...\n",
       "Name: text, dtype: object"
      ]
     },
     "execution_count": 61,
     "metadata": {},
     "output_type": "execute_result"
    }
   ],
   "source": [
    "df[df['text_id']==7091]['text']"
   ]
  },
  {
   "cell_type": "code",
   "execution_count": 62,
   "metadata": {},
   "outputs": [
    {
     "data": {
      "text/plain": [
       "1248710    Opinion by Not to be published in.\n",
       "1248711                                 full.\n",
       "Name: text, dtype: object"
      ]
     },
     "execution_count": 62,
     "metadata": {},
     "output_type": "execute_result"
    }
   ],
   "source": [
    "#max\n",
    "df[df['text_id']==9588]['text']"
   ]
  },
  {
   "cell_type": "code",
   "execution_count": 66,
   "metadata": {},
   "outputs": [
    {
     "data": {
      "text/html": [
       "<div>\n",
       "<style scoped>\n",
       "    .dataframe tbody tr th:only-of-type {\n",
       "        vertical-align: middle;\n",
       "    }\n",
       "\n",
       "    .dataframe tbody tr th {\n",
       "        vertical-align: top;\n",
       "    }\n",
       "\n",
       "    .dataframe thead th {\n",
       "        text-align: right;\n",
       "    }\n",
       "</style>\n",
       "<table border=\"1\" class=\"dataframe\">\n",
       "  <thead>\n",
       "    <tr style=\"text-align: right;\">\n",
       "      <th></th>\n",
       "      <th>cosine_slice</th>\n",
       "      <th>t_slice</th>\n",
       "      <th>year</th>\n",
       "    </tr>\n",
       "    <tr>\n",
       "      <th>text_id</th>\n",
       "      <th></th>\n",
       "      <th></th>\n",
       "      <th></th>\n",
       "    </tr>\n",
       "  </thead>\n",
       "  <tbody>\n",
       "    <tr>\n",
       "      <th>7078</th>\n",
       "      <td>-0.026921</td>\n",
       "      <td>2000.0</td>\n",
       "      <td>2000.0</td>\n",
       "    </tr>\n",
       "    <tr>\n",
       "      <th>58181</th>\n",
       "      <td>-0.021270</td>\n",
       "      <td>1960.0</td>\n",
       "      <td>1957.0</td>\n",
       "    </tr>\n",
       "    <tr>\n",
       "      <th>57141</th>\n",
       "      <td>-0.017626</td>\n",
       "      <td>1960.0</td>\n",
       "      <td>1955.0</td>\n",
       "    </tr>\n",
       "    <tr>\n",
       "      <th>57857</th>\n",
       "      <td>-0.017626</td>\n",
       "      <td>1960.0</td>\n",
       "      <td>1957.0</td>\n",
       "    </tr>\n",
       "    <tr>\n",
       "      <th>57893</th>\n",
       "      <td>-0.017626</td>\n",
       "      <td>1960.0</td>\n",
       "      <td>1957.0</td>\n",
       "    </tr>\n",
       "    <tr>\n",
       "      <th>58065</th>\n",
       "      <td>-0.017626</td>\n",
       "      <td>1960.0</td>\n",
       "      <td>1957.0</td>\n",
       "    </tr>\n",
       "    <tr>\n",
       "      <th>57891</th>\n",
       "      <td>-0.015646</td>\n",
       "      <td>1960.0</td>\n",
       "      <td>1957.0</td>\n",
       "    </tr>\n",
       "    <tr>\n",
       "      <th>7053</th>\n",
       "      <td>-0.013576</td>\n",
       "      <td>2010.0</td>\n",
       "      <td>2002.0</td>\n",
       "    </tr>\n",
       "    <tr>\n",
       "      <th>74677</th>\n",
       "      <td>-0.009542</td>\n",
       "      <td>2010.0</td>\n",
       "      <td>2006.0</td>\n",
       "    </tr>\n",
       "    <tr>\n",
       "      <th>74765</th>\n",
       "      <td>-0.007921</td>\n",
       "      <td>2010.0</td>\n",
       "      <td>2006.0</td>\n",
       "    </tr>\n",
       "    <tr>\n",
       "      <th>64576</th>\n",
       "      <td>-0.006225</td>\n",
       "      <td>1980.0</td>\n",
       "      <td>1978.0</td>\n",
       "    </tr>\n",
       "    <tr>\n",
       "      <th>51523</th>\n",
       "      <td>-0.005785</td>\n",
       "      <td>2010.0</td>\n",
       "      <td>2005.0</td>\n",
       "    </tr>\n",
       "    <tr>\n",
       "      <th>74728</th>\n",
       "      <td>-0.005031</td>\n",
       "      <td>2010.0</td>\n",
       "      <td>2006.0</td>\n",
       "    </tr>\n",
       "    <tr>\n",
       "      <th>48846</th>\n",
       "      <td>-0.004834</td>\n",
       "      <td>2010.0</td>\n",
       "      <td>2006.0</td>\n",
       "    </tr>\n",
       "    <tr>\n",
       "      <th>51525</th>\n",
       "      <td>-0.001253</td>\n",
       "      <td>2010.0</td>\n",
       "      <td>2006.0</td>\n",
       "    </tr>\n",
       "    <tr>\n",
       "      <th>51370</th>\n",
       "      <td>-0.000033</td>\n",
       "      <td>2010.0</td>\n",
       "      <td>2005.0</td>\n",
       "    </tr>\n",
       "  </tbody>\n",
       "</table>\n",
       "</div>"
      ],
      "text/plain": [
       "         cosine_slice  t_slice    year\n",
       "text_id                               \n",
       "7078        -0.026921   2000.0  2000.0\n",
       "58181       -0.021270   1960.0  1957.0\n",
       "57141       -0.017626   1960.0  1955.0\n",
       "57857       -0.017626   1960.0  1957.0\n",
       "57893       -0.017626   1960.0  1957.0\n",
       "58065       -0.017626   1960.0  1957.0\n",
       "57891       -0.015646   1960.0  1957.0\n",
       "7053        -0.013576   2010.0  2002.0\n",
       "74677       -0.009542   2010.0  2006.0\n",
       "74765       -0.007921   2010.0  2006.0\n",
       "64576       -0.006225   1980.0  1978.0\n",
       "51523       -0.005785   2010.0  2005.0\n",
       "74728       -0.005031   2010.0  2006.0\n",
       "48846       -0.004834   2010.0  2006.0\n",
       "51525       -0.001253   2010.0  2006.0\n",
       "51370       -0.000033   2010.0  2005.0"
      ]
     },
     "execution_count": 66,
     "metadata": {},
     "output_type": "execute_result"
    }
   ],
   "source": [
    "#outliers???\n",
    "ave_cosine[ave_cosine['cosine_slice']<0].sort_values('cosine_slice')"
   ]
  },
  {
   "cell_type": "code",
   "execution_count": 67,
   "metadata": {},
   "outputs": [
    {
     "data": {
      "text/html": [
       "<div>\n",
       "<style scoped>\n",
       "    .dataframe tbody tr th:only-of-type {\n",
       "        vertical-align: middle;\n",
       "    }\n",
       "\n",
       "    .dataframe tbody tr th {\n",
       "        vertical-align: top;\n",
       "    }\n",
       "\n",
       "    .dataframe thead th {\n",
       "        text-align: right;\n",
       "    }\n",
       "</style>\n",
       "<table border=\"1\" class=\"dataframe\">\n",
       "  <thead>\n",
       "    <tr style=\"text-align: right;\">\n",
       "      <th></th>\n",
       "      <th>index2</th>\n",
       "      <th>text_id</th>\n",
       "      <th>text</th>\n",
       "      <th>year</th>\n",
       "      <th>text_cleansed</th>\n",
       "      <th>words_cleansed</th>\n",
       "      <th>n_words</th>\n",
       "      <th>sent_detok</th>\n",
       "      <th>t_slice</th>\n",
       "      <th>cosine_slice</th>\n",
       "    </tr>\n",
       "  </thead>\n",
       "  <tbody>\n",
       "    <tr>\n",
       "      <th>1008808</th>\n",
       "      <td>1030760</td>\n",
       "      <td>7078</td>\n",
       "      <td>Order of the Court: The petition by the Admini...</td>\n",
       "      <td>2000</td>\n",
       "      <td>order of the court the petition by the adminis...</td>\n",
       "      <td>[order, court, petit, administr, attorney, reg...</td>\n",
       "      <td>16</td>\n",
       "      <td>order court petit administr attorney registr d...</td>\n",
       "      <td>2000</td>\n",
       "      <td>NaN</td>\n",
       "    </tr>\n",
       "    <tr>\n",
       "      <th>1008809</th>\n",
       "      <td>1030761</td>\n",
       "      <td>7078</td>\n",
       "      <td>Respondent Maureen F.X.</td>\n",
       "      <td>2000</td>\n",
       "      <td>respondent maureen f x</td>\n",
       "      <td>[respond, maureen]</td>\n",
       "      <td>2</td>\n",
       "      <td>respond maureen</td>\n",
       "      <td>2000</td>\n",
       "      <td>0.001385</td>\n",
       "    </tr>\n",
       "    <tr>\n",
       "      <th>1008810</th>\n",
       "      <td>1030762</td>\n",
       "      <td>7078</td>\n",
       "      <td>Walsh is disbarred.</td>\n",
       "      <td>2000</td>\n",
       "      <td>walsh is disbarred</td>\n",
       "      <td>[walsh, disbar]</td>\n",
       "      <td>2</td>\n",
       "      <td>walsh disbar</td>\n",
       "      <td>2000</td>\n",
       "      <td>-0.055227</td>\n",
       "    </tr>\n",
       "  </tbody>\n",
       "</table>\n",
       "</div>"
      ],
      "text/plain": [
       "          index2  text_id                                               text  \\\n",
       "1008808  1030760     7078  Order of the Court: The petition by the Admini...   \n",
       "1008809  1030761     7078                            Respondent Maureen F.X.   \n",
       "1008810  1030762     7078                                Walsh is disbarred.   \n",
       "\n",
       "         year                                      text_cleansed  \\\n",
       "1008808  2000  order of the court the petition by the adminis...   \n",
       "1008809  2000                             respondent maureen f x   \n",
       "1008810  2000                                 walsh is disbarred   \n",
       "\n",
       "                                            words_cleansed  n_words  \\\n",
       "1008808  [order, court, petit, administr, attorney, reg...       16   \n",
       "1008809                                 [respond, maureen]        2   \n",
       "1008810                                    [walsh, disbar]        2   \n",
       "\n",
       "                                                sent_detok  t_slice  \\\n",
       "1008808  order court petit administr attorney registr d...     2000   \n",
       "1008809                                    respond maureen     2000   \n",
       "1008810                                       walsh disbar     2000   \n",
       "\n",
       "         cosine_slice  \n",
       "1008808           NaN  \n",
       "1008809      0.001385  \n",
       "1008810     -0.055227  "
      ]
     },
     "execution_count": 67,
     "metadata": {},
     "output_type": "execute_result"
    }
   ],
   "source": [
    "df[df['text_id']==7078]"
   ]
  },
  {
   "cell_type": "code",
   "execution_count": 68,
   "metadata": {},
   "outputs": [
    {
     "data": {
      "text/html": [
       "<div>\n",
       "<style scoped>\n",
       "    .dataframe tbody tr th:only-of-type {\n",
       "        vertical-align: middle;\n",
       "    }\n",
       "\n",
       "    .dataframe tbody tr th {\n",
       "        vertical-align: top;\n",
       "    }\n",
       "\n",
       "    .dataframe thead th {\n",
       "        text-align: right;\n",
       "    }\n",
       "</style>\n",
       "<table border=\"1\" class=\"dataframe\">\n",
       "  <thead>\n",
       "    <tr style=\"text-align: right;\">\n",
       "      <th></th>\n",
       "      <th>index2</th>\n",
       "      <th>text_id</th>\n",
       "      <th>text</th>\n",
       "      <th>year</th>\n",
       "      <th>text_cleansed</th>\n",
       "      <th>words_cleansed</th>\n",
       "      <th>n_words</th>\n",
       "      <th>sent_detok</th>\n",
       "      <th>t_slice</th>\n",
       "      <th>cosine_slice</th>\n",
       "    </tr>\n",
       "  </thead>\n",
       "  <tbody>\n",
       "    <tr>\n",
       "      <th>5780094</th>\n",
       "      <td>5928330</td>\n",
       "      <td>58181</td>\n",
       "      <td>delivered the opinion of the court.</td>\n",
       "      <td>1957</td>\n",
       "      <td>delivered the opinion of the court</td>\n",
       "      <td>[deliv, opinion, court]</td>\n",
       "      <td>3</td>\n",
       "      <td>deliv opinion court</td>\n",
       "      <td>1960</td>\n",
       "      <td>NaN</td>\n",
       "    </tr>\n",
       "    <tr>\n",
       "      <th>5780095</th>\n",
       "      <td>5928331</td>\n",
       "      <td>58181</td>\n",
       "      <td>Not to be pub- lished in full.</td>\n",
       "      <td>1957</td>\n",
       "      <td>not to be pub lished in full</td>\n",
       "      <td>[pub, lish, full]</td>\n",
       "      <td>3</td>\n",
       "      <td>pub lish full</td>\n",
       "      <td>1960</td>\n",
       "      <td>-0.02127</td>\n",
       "    </tr>\n",
       "  </tbody>\n",
       "</table>\n",
       "</div>"
      ],
      "text/plain": [
       "          index2  text_id                                 text  year  \\\n",
       "5780094  5928330    58181  delivered the opinion of the court.  1957   \n",
       "5780095  5928331    58181       Not to be pub- lished in full.  1957   \n",
       "\n",
       "                              text_cleansed           words_cleansed  n_words  \\\n",
       "5780094  delivered the opinion of the court  [deliv, opinion, court]        3   \n",
       "5780095        not to be pub lished in full        [pub, lish, full]        3   \n",
       "\n",
       "                  sent_detok  t_slice  cosine_slice  \n",
       "5780094  deliv opinion court     1960           NaN  \n",
       "5780095        pub lish full     1960      -0.02127  "
      ]
     },
     "execution_count": 68,
     "metadata": {},
     "output_type": "execute_result"
    }
   ],
   "source": [
    "df[df['text_id']==58181]"
   ]
  },
  {
   "cell_type": "code",
   "execution_count": 46,
   "metadata": {},
   "outputs": [
    {
     "name": "stderr",
     "output_type": "stream",
     "text": [
      "/Users/jlhc/anaconda3/lib/python3.7/site-packages/scipy/stats/stats.py:1713: FutureWarning: Using a non-tuple sequence for multidimensional indexing is deprecated; use `arr[tuple(seq)]` instead of `arr[seq]`. In the future this will be interpreted as an array index, `arr[np.array(seq)]`, which will result either in an error or a different result.\n",
      "  return np.add.reduce(sorted[indexer] * weights, axis=axis) / sumval\n"
     ]
    },
    {
     "data": {
      "image/png": "[encoded data removed]",
      "text/plain": [
       "<Figure size 432x288 with 1 Axes>"
      ]
     },
     "metadata": {
      "needs_background": "light"
     },
     "output_type": "display_data"
    }
   ],
   "source": [
    "ax = sns.lineplot(x='year', y=\"cosine_slice\", data=ave_cosine,label='Case documents')\n",
    "ax = sns.lineplot(x='year', y=\"MC_cosine\", data=ave_MC,label='Shuffled sentences')\n",
    "plt.xlabel('Year')\n",
    "plt.ylabel('Textual Coherence Score')\n",
    "plt.title('Average Coherence Scores over Time (with Confidence Intervals)')\n",
    "plt.savefig('figs/coherence.png')\n",
    "plt.show()"
   ]
  },
  {
   "cell_type": "code",
   "execution_count": 40,
   "metadata": {},
   "outputs": [],
   "source": [
    "#average of average\n",
    "ave_cosine_t = ave_cosine.groupby('year').mean()['cosine_slice']\n",
    "ave_MC_t = ave_MC.groupby('year').mean()['MC_cosine']"
   ]
  },
  {
   "cell_type": "code",
   "execution_count": 42,
   "metadata": {},
   "outputs": [
    {
     "data": {
      "image/png": "[encoded data removed]",
      "text/plain": [
       "<Figure size 432x288 with 1 Axes>"
      ]
     },
     "metadata": {
      "needs_background": "light"
     },
     "output_type": "display_data"
    }
   ],
   "source": [
    "moving_avg = ave_cosine_t.rolling(10).mean()\n",
    "moving_avg_MC = ave_MC_t.rolling(10).mean()\n",
    "\n",
    "plt.plot(ave_cosine_t, label = 'average coherence')\n",
    "plt.plot(moving_avg, color='red', label = 'rolling average')\n",
    "plt.plot(ave_MC_t, label = 'MC coherence')\n",
    "plt.plot(moving_avg_MC, color='red', label = 'MC_rolling average')\n",
    "plt.xlabel('Year')\n",
    "plt.ylabel('Textual Coherence Score')\n",
    "plt.legend()\n",
    "plt.savefig('figs/rolling.png')\n",
    "plt.show()"
   ]
  },
  {
   "cell_type": "code",
   "execution_count": 70,
   "metadata": {},
   "outputs": [
    {
     "data": {
      "text/plain": [
       "year\n",
       "1951.0         NaN\n",
       "1952.0         NaN\n",
       "1953.0         NaN\n",
       "1954.0         NaN\n",
       "1955.0         NaN\n",
       "1956.0         NaN\n",
       "1957.0         NaN\n",
       "1958.0         NaN\n",
       "1959.0         NaN\n",
       "1960.0    0.196079\n",
       "1961.0    0.194495\n",
       "1962.0    0.192734\n",
       "1963.0    0.192049\n",
       "1964.0    0.191397\n",
       "1965.0    0.191988\n",
       "1966.0    0.191473\n",
       "1967.0    0.190272\n",
       "1968.0    0.188673\n",
       "1969.0    0.187660\n",
       "1970.0    0.185920\n",
       "1971.0    0.185222\n",
       "1972.0    0.184161\n",
       "1973.0    0.183119\n",
       "1974.0    0.181879\n",
       "1975.0    0.180588\n",
       "1976.0    0.180290\n",
       "1977.0    0.180364\n",
       "1978.0    0.181020\n",
       "1979.0    0.181116\n",
       "1980.0    0.181190\n",
       "1981.0    0.180911\n",
       "1982.0    0.180760\n",
       "1983.0    0.180491\n",
       "1984.0    0.180562\n",
       "1985.0    0.179422\n",
       "1986.0    0.178883\n",
       "1987.0    0.178352\n",
       "1988.0    0.177418\n",
       "1989.0    0.176870\n",
       "1990.0    0.176843\n",
       "1991.0    0.176397\n",
       "1992.0    0.176247\n",
       "1993.0    0.176088\n",
       "1994.0    0.175407\n",
       "1995.0    0.174918\n",
       "1996.0    0.173922\n",
       "1997.0    0.172956\n",
       "1998.0    0.172134\n",
       "1999.0    0.171036\n",
       "2000.0    0.170070\n",
       "2001.0    0.169386\n",
       "2002.0    0.168876\n",
       "2003.0    0.168058\n",
       "2004.0    0.167669\n",
       "2005.0    0.167351\n",
       "2006.0    0.168177\n",
       "2007.0    0.168217\n",
       "2008.0    0.167838\n",
       "2009.0    0.167550\n",
       "2010.0    0.166816\n",
       "Name: cosine_slice, dtype: float64"
      ]
     },
     "execution_count": 70,
     "metadata": {},
     "output_type": "execute_result"
    }
   ],
   "source": [
    "moving_avg"
   ]
  }
 ],
 "metadata": {
  "kernelspec": {
   "display_name": "Python 3",
   "language": "python",
   "name": "python3"
  },
  "language_info": {
   "codemirror_mode": {
    "name": "ipython",
    "version": 3
   },
   "file_extension": ".py",
   "mimetype": "text/x-python",
   "name": "python",
   "nbconvert_exporter": "python",
   "pygments_lexer": "ipython3",
   "version": "3.7.1"
  }
 },
 "nbformat": 4,
 "nbformat_minor": 2
}
